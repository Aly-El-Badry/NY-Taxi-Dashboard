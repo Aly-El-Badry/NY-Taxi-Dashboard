{
  "nbformat": 4,
  "nbformat_minor": 0,
  "metadata": {
    "colab": {
      "provenance": []
    },
    "kernelspec": {
      "name": "python3",
      "display_name": "Python 3"
    },
    "language_info": {
      "name": "python"
    }
  },
  "cells": [
    {
      "cell_type": "code",
      "execution_count": 81,
      "metadata": {
        "colab": {
          "base_uri": "https://localhost:8080/"
        },
        "collapsed": true,
        "id": "nW_AUPdp6nXz",
        "outputId": "9617cf78-13d7-47cd-aa11-b63a3653931f"
      },
      "outputs": [
        {
          "output_type": "stream",
          "name": "stdout",
          "text": [
            "Path to dataset files: /root/.cache/kagglehub/datasets/edwinytleung/nyc-yellow-taxi-2015-sample-data/versions/2\n"
          ]
        }
      ],
      "source": [
        "import kagglehub\n",
        "\n",
        "# Download latest version\n",
        "path = kagglehub.dataset_download(\"edwinytleung/nyc-yellow-taxi-2015-sample-data\")\n",
        "\n",
        "print(\"Path to dataset files:\", path)"
      ]
    },
    {
      "cell_type": "code",
      "source": [
        "!pip install dash"
      ],
      "metadata": {
        "colab": {
          "base_uri": "https://localhost:8080/"
        },
        "id": "azqJAH8yI7EA",
        "outputId": "f3d2af02-23de-439d-fa13-bbf0ae06a47b",
        "collapsed": true
      },
      "execution_count": 83,
      "outputs": [
        {
          "output_type": "stream",
          "name": "stdout",
          "text": [
            "Requirement already satisfied: dash in /usr/local/lib/python3.11/dist-packages (3.0.0)\n",
            "Requirement already satisfied: Flask<3.1,>=1.0.4 in /usr/local/lib/python3.11/dist-packages (from dash) (3.0.3)\n",
            "Requirement already satisfied: Werkzeug<3.1 in /usr/local/lib/python3.11/dist-packages (from dash) (3.0.6)\n",
            "Requirement already satisfied: plotly>=5.0.0 in /usr/local/lib/python3.11/dist-packages (from dash) (5.24.1)\n",
            "Requirement already satisfied: importlib-metadata in /usr/local/lib/python3.11/dist-packages (from dash) (8.6.1)\n",
            "Requirement already satisfied: typing-extensions>=4.1.1 in /usr/local/lib/python3.11/dist-packages (from dash) (4.12.2)\n",
            "Requirement already satisfied: requests in /usr/local/lib/python3.11/dist-packages (from dash) (2.32.3)\n",
            "Requirement already satisfied: retrying in /usr/local/lib/python3.11/dist-packages (from dash) (1.3.4)\n",
            "Requirement already satisfied: nest-asyncio in /usr/local/lib/python3.11/dist-packages (from dash) (1.6.0)\n",
            "Requirement already satisfied: setuptools in /usr/local/lib/python3.11/dist-packages (from dash) (75.1.0)\n",
            "Requirement already satisfied: stringcase>=1.2.0 in /usr/local/lib/python3.11/dist-packages (from dash) (1.2.0)\n",
            "Requirement already satisfied: Jinja2>=3.1.2 in /usr/local/lib/python3.11/dist-packages (from Flask<3.1,>=1.0.4->dash) (3.1.6)\n",
            "Requirement already satisfied: itsdangerous>=2.1.2 in /usr/local/lib/python3.11/dist-packages (from Flask<3.1,>=1.0.4->dash) (2.2.0)\n",
            "Requirement already satisfied: click>=8.1.3 in /usr/local/lib/python3.11/dist-packages (from Flask<3.1,>=1.0.4->dash) (8.1.8)\n",
            "Requirement already satisfied: blinker>=1.6.2 in /usr/local/lib/python3.11/dist-packages (from Flask<3.1,>=1.0.4->dash) (1.9.0)\n",
            "Requirement already satisfied: tenacity>=6.2.0 in /usr/local/lib/python3.11/dist-packages (from plotly>=5.0.0->dash) (9.0.0)\n",
            "Requirement already satisfied: packaging in /usr/local/lib/python3.11/dist-packages (from plotly>=5.0.0->dash) (24.2)\n",
            "Requirement already satisfied: MarkupSafe>=2.1.1 in /usr/local/lib/python3.11/dist-packages (from Werkzeug<3.1->dash) (3.0.2)\n",
            "Requirement already satisfied: zipp>=3.20 in /usr/local/lib/python3.11/dist-packages (from importlib-metadata->dash) (3.21.0)\n",
            "Requirement already satisfied: charset-normalizer<4,>=2 in /usr/local/lib/python3.11/dist-packages (from requests->dash) (3.4.1)\n",
            "Requirement already satisfied: idna<4,>=2.5 in /usr/local/lib/python3.11/dist-packages (from requests->dash) (3.10)\n",
            "Requirement already satisfied: urllib3<3,>=1.21.1 in /usr/local/lib/python3.11/dist-packages (from requests->dash) (2.3.0)\n",
            "Requirement already satisfied: certifi>=2017.4.17 in /usr/local/lib/python3.11/dist-packages (from requests->dash) (2025.1.31)\n",
            "Requirement already satisfied: six>=1.7.0 in /usr/local/lib/python3.11/dist-packages (from retrying->dash) (1.17.0)\n"
          ]
        }
      ]
    },
    {
      "cell_type": "code",
      "source": [
        "!pip install dash_bootstrap_components"
      ],
      "metadata": {
        "colab": {
          "base_uri": "https://localhost:8080/"
        },
        "id": "OvP41h5A7kW-",
        "outputId": "c0bb0c03-106e-4138-85af-4c48c9994f64",
        "collapsed": true
      },
      "execution_count": 84,
      "outputs": [
        {
          "output_type": "stream",
          "name": "stdout",
          "text": [
            "Requirement already satisfied: dash_bootstrap_components in /usr/local/lib/python3.11/dist-packages (2.0.0)\n",
            "Requirement already satisfied: dash>=3.0.0 in /usr/local/lib/python3.11/dist-packages (from dash_bootstrap_components) (3.0.0)\n",
            "Requirement already satisfied: Flask<3.1,>=1.0.4 in /usr/local/lib/python3.11/dist-packages (from dash>=3.0.0->dash_bootstrap_components) (3.0.3)\n",
            "Requirement already satisfied: Werkzeug<3.1 in /usr/local/lib/python3.11/dist-packages (from dash>=3.0.0->dash_bootstrap_components) (3.0.6)\n",
            "Requirement already satisfied: plotly>=5.0.0 in /usr/local/lib/python3.11/dist-packages (from dash>=3.0.0->dash_bootstrap_components) (5.24.1)\n",
            "Requirement already satisfied: importlib-metadata in /usr/local/lib/python3.11/dist-packages (from dash>=3.0.0->dash_bootstrap_components) (8.6.1)\n",
            "Requirement already satisfied: typing-extensions>=4.1.1 in /usr/local/lib/python3.11/dist-packages (from dash>=3.0.0->dash_bootstrap_components) (4.12.2)\n",
            "Requirement already satisfied: requests in /usr/local/lib/python3.11/dist-packages (from dash>=3.0.0->dash_bootstrap_components) (2.32.3)\n",
            "Requirement already satisfied: retrying in /usr/local/lib/python3.11/dist-packages (from dash>=3.0.0->dash_bootstrap_components) (1.3.4)\n",
            "Requirement already satisfied: nest-asyncio in /usr/local/lib/python3.11/dist-packages (from dash>=3.0.0->dash_bootstrap_components) (1.6.0)\n",
            "Requirement already satisfied: setuptools in /usr/local/lib/python3.11/dist-packages (from dash>=3.0.0->dash_bootstrap_components) (75.1.0)\n",
            "Requirement already satisfied: stringcase>=1.2.0 in /usr/local/lib/python3.11/dist-packages (from dash>=3.0.0->dash_bootstrap_components) (1.2.0)\n",
            "Requirement already satisfied: Jinja2>=3.1.2 in /usr/local/lib/python3.11/dist-packages (from Flask<3.1,>=1.0.4->dash>=3.0.0->dash_bootstrap_components) (3.1.6)\n",
            "Requirement already satisfied: itsdangerous>=2.1.2 in /usr/local/lib/python3.11/dist-packages (from Flask<3.1,>=1.0.4->dash>=3.0.0->dash_bootstrap_components) (2.2.0)\n",
            "Requirement already satisfied: click>=8.1.3 in /usr/local/lib/python3.11/dist-packages (from Flask<3.1,>=1.0.4->dash>=3.0.0->dash_bootstrap_components) (8.1.8)\n",
            "Requirement already satisfied: blinker>=1.6.2 in /usr/local/lib/python3.11/dist-packages (from Flask<3.1,>=1.0.4->dash>=3.0.0->dash_bootstrap_components) (1.9.0)\n",
            "Requirement already satisfied: tenacity>=6.2.0 in /usr/local/lib/python3.11/dist-packages (from plotly>=5.0.0->dash>=3.0.0->dash_bootstrap_components) (9.0.0)\n",
            "Requirement already satisfied: packaging in /usr/local/lib/python3.11/dist-packages (from plotly>=5.0.0->dash>=3.0.0->dash_bootstrap_components) (24.2)\n",
            "Requirement already satisfied: MarkupSafe>=2.1.1 in /usr/local/lib/python3.11/dist-packages (from Werkzeug<3.1->dash>=3.0.0->dash_bootstrap_components) (3.0.2)\n",
            "Requirement already satisfied: zipp>=3.20 in /usr/local/lib/python3.11/dist-packages (from importlib-metadata->dash>=3.0.0->dash_bootstrap_components) (3.21.0)\n",
            "Requirement already satisfied: charset-normalizer<4,>=2 in /usr/local/lib/python3.11/dist-packages (from requests->dash>=3.0.0->dash_bootstrap_components) (3.4.1)\n",
            "Requirement already satisfied: idna<4,>=2.5 in /usr/local/lib/python3.11/dist-packages (from requests->dash>=3.0.0->dash_bootstrap_components) (3.10)\n",
            "Requirement already satisfied: urllib3<3,>=1.21.1 in /usr/local/lib/python3.11/dist-packages (from requests->dash>=3.0.0->dash_bootstrap_components) (2.3.0)\n",
            "Requirement already satisfied: certifi>=2017.4.17 in /usr/local/lib/python3.11/dist-packages (from requests->dash>=3.0.0->dash_bootstrap_components) (2025.1.31)\n",
            "Requirement already satisfied: six>=1.7.0 in /usr/local/lib/python3.11/dist-packages (from retrying->dash>=3.0.0->dash_bootstrap_components) (1.17.0)\n"
          ]
        }
      ]
    },
    {
      "cell_type": "code",
      "source": [
        "import pandas as pd\n",
        "import numpy as np\n",
        "import matplotlib.pyplot as plt\n",
        "import seaborn as sns\n",
        "import plotly.express as px\n",
        "import plotly.graph_objects as go\n",
        "from plotly.subplots import make_subplots\n",
        "from dash import dcc, html, Dash, dash_table, callback\n",
        "from dash.dependencies import Input, Output\n",
        "import dash_bootstrap_components as dbc\n",
        "from dash import no_update"
      ],
      "metadata": {
        "id": "V5LojsgN7RiP"
      },
      "execution_count": 85,
      "outputs": []
    },
    {
      "cell_type": "code",
      "source": [
        "train = pd.read_csv(path + '/train_2015.csv')\n",
        "# save data on local device\n",
        "train.to_csv('train.csv', index=False)\n",
        "train"
      ],
      "metadata": {
        "id": "WQ14XjYl7098"
      },
      "execution_count": null,
      "outputs": []
    },
    {
      "cell_type": "code",
      "source": [
        "# Q1: How many total trips are in the dataset?\n",
        "totalNoTrip = train.shape[0]\n",
        "print('Total trips in the dataset:', totalNoTrip)"
      ],
      "metadata": {
        "id": "1p_FI5Yk8jed",
        "colab": {
          "base_uri": "https://localhost:8080/"
        },
        "outputId": "dbfc4bed-15a4-473e-ffc8-f7d887e6a3e5"
      },
      "execution_count": 87,
      "outputs": [
        {
          "output_type": "stream",
          "name": "stdout",
          "text": [
            "Total trips in the dataset: 2936867\n"
          ]
        }
      ]
    },
    {
      "cell_type": "code",
      "source": [
        "# Q2: What are the unique taxi vendors in the dataset?\n",
        "print('Unique taxi vendors in the dataset:', train['VendorID'].unique())"
      ],
      "metadata": {
        "id": "0Iq_ooOOwZTK",
        "colab": {
          "base_uri": "https://localhost:8080/"
        },
        "outputId": "a0c4e6b0-a07d-49e1-8aa4-6d9269bdb032"
      },
      "execution_count": 88,
      "outputs": [
        {
          "output_type": "stream",
          "name": "stdout",
          "text": [
            "Unique taxi vendors in the dataset: [2 1]\n"
          ]
        }
      ]
    },
    {
      "cell_type": "code",
      "source": [
        "# Style of the Dashboard\n",
        "buttonStyle = {\n",
        "    'backgroundColor': 'black',\n",
        "    'color': '#007bff',\n",
        "    'fontWeight': \"bolder\",\n",
        "    'fontSize': '20px',\n",
        "    'width' : '100%',\n",
        "    'height': '130px',\n",
        "    'border': '5px #007bff solid',\n",
        "    'padding': '10px',\n",
        "    'text-align': 'center',\n",
        "}\n"
      ],
      "metadata": {
        "id": "TGU-MJH7Kac-"
      },
      "execution_count": 89,
      "outputs": []
    },
    {
      "cell_type": "code",
      "source": [
        "import dash\n",
        "from dash import html, dcc, Dash\n",
        "import dash_bootstrap_components as dbc\n",
        "from dash.dependencies import Input, Output\n",
        "\n",
        "\n",
        "# Initialize App\n",
        "external_stylesheets = [dbc.themes.CERULEAN]\n",
        "app = Dash(__name__, external_stylesheets=external_stylesheets)\n",
        "\n",
        "# Layout\n",
        "app.layout = dbc.Container([\n",
        "    dbc.Row(html.H1(\"Yellow Taxi Trips Analysis\", className=\"text-primary text-center fs-1 fw-bolder\")),\n",
        "\n",
        "    dbc.Row([\n",
        "        dbc.Col(\n",
        "            dbc.Card(\n",
        "                dbc.CardBody(html.H4(f\"🚖 Total Trips: {totalNoTrip}\", className=\"card-title text-black text-center\")),\n",
        "                className=\"rounded-3\",\n",
        "                style={\"box-shadow\": \"0px 4px 10px rgba(0, 0, 255, 0.5)\", \"backgroundColor\": \"#007bff\"}\n",
        "            ),\n",
        "            width=6,\n",
        "        ),\n",
        "        dbc.Col(\n",
        "            dbc.Card(\n",
        "                dbc.CardBody(html.H4(\"🛺 2 Unique Taxi Vendors\", className=\"card-title text-black text-center\")),\n",
        "                className=\"rounded-3\",\n",
        "                style={\"box-shadow\": \"0px 4px 10px rgba(0, 0, 255, 0.5)\", \"backgroundColor\": \"#007bff\"}\n",
        "            ),\n",
        "            width=6,\n",
        "        )\n",
        "    ], className=\"my-3\"),\n",
        "\n",
        "    dbc.Row([\n",
        "        dbc.Col(\n",
        "            html.Div([\n",
        "                html.Button(\"Vendor Analysis\", className=\"btn my-3\", id=\"vendor-analysis-button\", style=buttonStyle),\n",
        "                html.Button(\"Trip Place Analysis\", className=\"btn my-3\", id=\"trip-analysis-button\", style=buttonStyle),\n",
        "                html.Button(\"Fare Analysis\", className=\"btn my-3\", id=\"fare-analysis-button\", style=buttonStyle),\n",
        "                dcc.Store(id=\"active-button\", data=\"\")\n",
        "            ]),\n",
        "            width=3\n",
        "        ),\n",
        "        dbc.Col(html.Div(id=\"output-content\"), width=9)\n",
        "    ], className=\"my-3\", style={'height': '70vh'}),\n",
        "\n",
        "], fluid=True, className=\"bg-black\", style={'height': '120vh'})\n",
        "\n",
        "# Callback\n",
        "@app.callback(\n",
        "    [Output(\"output-content\", \"children\"),\n",
        "     Output(\"vendor-analysis-button\", \"style\"),\n",
        "     Output(\"trip-analysis-button\", \"style\"),\n",
        "     Output(\"fare-analysis-button\", \"style\")],\n",
        "    [Input(\"vendor-analysis-button\", \"n_clicks\"),\n",
        "     Input(\"trip-analysis-button\", \"n_clicks\"),\n",
        "     Input(\"fare-analysis-button\", \"n_clicks\")]\n",
        ")\n",
        "def update_output(n_vendor, n_trip, n_fare):\n",
        "    ctx = dash.callback_context\n",
        "    button_id = ctx.triggered[0]['prop_id'].split('.')[0] if ctx.triggered and ctx.triggered[0]['prop_id'] else None\n",
        "\n",
        "    content = html.Div([\n",
        "        dbc.Row([\n",
        "            dbc.Col([\n",
        "                html.H2(\"Yellow Taxi Trips Analysis\", className=\"text-primary text-center fs-1 fw-bolder\"),\n",
        "                html.P(\"It is an analysis made for taxi trips from all around the world.\", className=\"text-center text-white\"),\n",
        "                html.P(\"Made by: Aly El-Badry\", className=\"text-center text-secondary fs-5 fw-bold\"),\n",
        "                dbc.Button(\"My Portfolio\",\n",
        "                          href=\"https://alyelbadryportfolio.netlify.app/\",\n",
        "                          className=\"mt-3\",\n",
        "                          style={\"border\": \"3px solid #007bff\", \"backgroundColor\": \"black\", \"color\": \"white\", \"padding\": \"10px 20px\"}\n",
        "                )\n",
        "            ], width=12, className=\"text-center\")\n",
        "\n",
        "        ], className=\"justify-content-center mt-5\")\n",
        "    ],\n",
        "    className=\"d-flex flex-column align-items-center justify-content-center text-white\",\n",
        "    style={\"backgroundColor\": \"black\", \"height\": \"65vh\"})\n",
        "\n",
        "\n",
        "\n",
        "    if button_id == \"vendor-analysis-button\":\n",
        "        content = html.Div([\n",
        "            dbc.Row(html.H2(\"Vendor Analysis\", className=\"text-primary text-center fs-1 fw-bolder\")),\n",
        "            dbc.Row([\n",
        "                dbc.Col([\n",
        "                    html.Div([\n",
        "                        html.P(\"Choose type of Vendor-Taxi: \", style={\"color\": \"white\"}),\n",
        "\n",
        "                        dcc.Dropdown(\n",
        "                            id='vendor-dropdown',\n",
        "                            options=[\n",
        "                                {\"label\": \"Vendor 1\", \"value\": 1},\n",
        "                                {\"label\": \"Vendor 2\", \"value\": 2}\n",
        "                            ],\n",
        "                            value=1,\n",
        "                            style={\"color\": \"black\", \"backgroundColor\": \"#007bff\"},\n",
        "                            clearable=False\n",
        "                        ),\n",
        "\n",
        "                        html.P(\"Choose the fare amount: \", style={\"color\": \"white\", \"margin-top\": \"20px\"}),\n",
        "\n",
        "                        dcc.Slider(\n",
        "                            id='fare-slider',\n",
        "                            min=0,\n",
        "                            max=100,\n",
        "                            step=1,\n",
        "                            value=10,\n",
        "                            marks={i: f\"${i}\" for i in range(0, 101, 10)},\n",
        "                            tooltip={\"placement\": \"bottom\", \"always_visible\": True},\n",
        "                            included=True\n",
        "                        ),\n",
        "\n",
        "                        html.P(\"Choose the trip Date: \", style={\"color\": \"white\", \"margin-top\": \"20px\"}),\n",
        "\n",
        "                        dcc.DatePickerRange(\n",
        "                            id='date-picker',\n",
        "                            start_date=train['tpep_pickup_datetime'].min(),\n",
        "                            end_date=train['tpep_pickup_datetime'].max(),\n",
        "                            display_format='YYYY-MM-DD',\n",
        "                        ),\n",
        "\n",
        "                        html.Div(id=\"average\", style={\"color\": \"white\"}, className=\"my-3\")\n",
        "                    ], style={\"padding\": \"20px\"})\n",
        "                ], width=4),\n",
        "                dbc.Col([\n",
        "                    dcc.Graph(id='vendor-graph', figure={})\n",
        "                ], width=8)\n",
        "          ])\n",
        "        ])\n",
        "\n",
        "    elif button_id == \"trip-analysis-button\":\n",
        "        content = html.Div([\n",
        "            dbc.Row(html.H2(\"Trip Analysis for 20000 of data\", className=\"text-primary text-center fs-1 fw-bolder\")),\n",
        "            dbc.Row(id=\"Trip-analysis\")\n",
        "        ])\n",
        "\n",
        "\n",
        "    elif button_id == \"fare-analysis-button\":\n",
        "        content = html.Div([\n",
        "            dbc.Row(html.H2(\"Fare Analysis\", className=\"text-primary text-center fs-1 fw-bolder\")),\n",
        "            dbc.Row(id=\"Fare-analysis\")\n",
        "        ])\n",
        "\n",
        "    return (\n",
        "        content,\n",
        "        active_class if button_id == \"vendor-analysis-button\" else buttonStyle,\n",
        "        active_class if button_id == \"trip-analysis-button\" else buttonStyle,\n",
        "        active_class if button_id == \"fare-analysis-button\" else buttonStyle\n",
        "    )\n",
        "@app.callback(\n",
        "    [Output('vendor-graph', 'figure'),\n",
        "     Output(\"average\", \"children\")],\n",
        "    [Input('vendor-dropdown', 'value'),\n",
        "     Input('fare-slider', 'value'),\n",
        "     Input('date-picker', 'start_date'),\n",
        "     Input('date-picker', 'end_date')]\n",
        ")\n",
        "def update_vendor_graph(selected_vendor, selected_fare, start_date, end_date):\n",
        "    filtered_df = train[\n",
        "        (train[\"VendorID\"] == selected_vendor) &\n",
        "        (train[\"fare_amount\"] <= selected_fare) &\n",
        "        (train[\"tpep_pickup_datetime\"] >= start_date) &\n",
        "        (train[\"tpep_pickup_datetime\"] <= end_date)\n",
        "    ]\n",
        "    average_fare = filtered_df[\"fare_amount\"].mean()\n",
        "\n",
        "    fig = px.histogram(\n",
        "        filtered_df[:20000],\n",
        "        x=\"tpep_dropoff_datetime\",\n",
        "        y=\"fare_amount\",\n",
        "        title=\"Fare Amount Distribution Over Time\",\n",
        "        color=\"VendorID\",\n",
        "        nbins=50,\n",
        "        barmode=\"overlay\",\n",
        "        opacity=0.7,\n",
        "        color_discrete_sequence=[\"#007bff\", \"#ff5733\"]\n",
        "    )\n",
        "\n",
        "    fig.update_layout(\n",
        "        xaxis_title=\"Dropoff Date\",\n",
        "        yaxis_title=\"Fare Amount\",\n",
        "        template=\"plotly_dark\"\n",
        "    )\n",
        "    return (fig, html.P(f\"Average Fare: ${average_fare:.2f}\"))\n",
        "@app.callback(\n",
        "    Output(\"Trip-analysis\", \"children\"),\n",
        "    Input(\"trip-analysis-button\", \"n_clicks\")\n",
        ")\n",
        "\n",
        "def update_trip_analysis(n_clicks):\n",
        "    if not n_clicks:\n",
        "        return dash.no_update\n",
        "\n",
        "    fig1 = px.scatter_mapbox(\n",
        "        train[:20000],\n",
        "        lat=\"dropoff_latitude\",\n",
        "        lon=\"dropoff_longitude\",\n",
        "        hover_name=\"VendorID\",\n",
        "        color=\"VendorID\",\n",
        "        zoom=8,\n",
        "        center={\"lat\": train[\"dropoff_latitude\"][1], \"lon\": train[\"dropoff_longitude\"][1]},\n",
        "        title=\"Dropoff Locations\"\n",
        "    )\n",
        "\n",
        "    fig1.update_layout(\n",
        "        mapbox_style=\"carto-positron\",\n",
        "        template=\"plotly_dark\"\n",
        "    )\n",
        "\n",
        "    fig2 = px.density_mapbox(\n",
        "        train[:20000],\n",
        "        lat=\"dropoff_latitude\",\n",
        "        lon=\"dropoff_longitude\",\n",
        "        radius=1,\n",
        "        center={\"lat\": train[\"dropoff_latitude\"][1], \"lon\": train[\"dropoff_longitude\"][1]},\n",
        "        zoom=8,\n",
        "        title=\"Dropoff Density\"\n",
        "    )\n",
        "\n",
        "    fig2.update_layout(\n",
        "        mapbox_style=\"carto-positron\",\n",
        "        template=\"plotly_dark\"\n",
        "    )\n",
        "\n",
        "    contact = dbc.Row([\n",
        "        dbc.Col(\n",
        "            dcc.Graph(figure=fig1)\n",
        "        ),\n",
        "        dbc.Col(\n",
        "            dcc.Graph(figure=fig2)\n",
        "        )])\n",
        "    return contact\n",
        "\n",
        "\n",
        "\n",
        "@app.callback(\n",
        "    Output(\"Fare-analysis\", \"children\"),\n",
        "    Input(\"fare-analysis-button\", \"n_clicks\")\n",
        ")\n",
        "\n",
        "def update_fare_analysis(n_clicks):\n",
        "    if not n_clicks:\n",
        "        return dash.no_update\n",
        "\n",
        "    most_common_payment = train[\"payment_type\"].value_counts().idxmax()\n",
        "    most_common_long = train[\"pickup_longitude\"].value_counts().idxmax()\n",
        "    most_common_lat = train[\"pickup_latitude\"].value_counts().idxmax()\n",
        "\n",
        "\n",
        "    fig1 = px.histogram(\n",
        "        train[:20000],\n",
        "        x=\"fare_amount\",\n",
        "        nbins=50,\n",
        "        title=\"Fare Amount Distribution\",\n",
        "        color_discrete_sequence=[\"#007bff\"]\n",
        "    )\n",
        "\n",
        "    fig1.update_layout(\n",
        "        xaxis_title=\"Fare Amount\",\n",
        "        yaxis_title=\"Frequency\",\n",
        "        template=\"plotly_dark\"\n",
        "    )\n",
        "    train[\"trip_duration\"] = (pd.to_datetime(train[\"tpep_dropoff_datetime\"]) - pd.to_datetime(train[\"tpep_pickup_datetime\"])).dt.total_seconds() / 60\n",
        "\n",
        "    fig2 = px.scatter(\n",
        "        train[:20000],\n",
        "        x=\"trip_distance\",\n",
        "        y=\"trip_duration\",\n",
        "        title=\"Trip Duration vs. Distance\",\n",
        "        color_discrete_sequence=[\"#007bff\"]\n",
        "    )\n",
        "    fig2.update_layout(\n",
        "        xaxis_title=\"Trip Distance\",\n",
        "        yaxis_title=\"Trip Duration\",\n",
        "        template=\"plotly_dark\"\n",
        "    )\n",
        "\n",
        "    content = dbc.Row([\n",
        "        dbc.Row(html.P(f\"Most Common Payment Type: {most_common_payment}\", className=\"text-primary text-center fs-5 fw-bolder\")),\n",
        "        dbc.Row(html.P(f\"Most Common Pickup Place: {most_common_long} and {most_common_lat}\", className=\"text-primary text-center fs-5 fw-bolder\")),\n",
        "        dbc.Row([\n",
        "          dbc.Col(\n",
        "              dcc.Graph(figure=fig1)\n",
        "          ),\n",
        "          dbc.Col(\n",
        "              dcc.Graph(figure=fig2)\n",
        "          )\n",
        "        ])\n",
        "    ])\n",
        "    return content\n",
        "\n",
        "\n",
        "# Run App\n",
        "if __name__ == '__main__':\n",
        "    app.run(debug=False)\n"
      ],
      "metadata": {
        "id": "IfGyu9bx2EXM",
        "colab": {
          "base_uri": "https://localhost:8080/",
          "height": 672
        },
        "outputId": "ffc15c02-78d6-4c7b-ac24-2a9f1035d6d6"
      },
      "execution_count": 100,
      "outputs": [
        {
          "output_type": "display_data",
          "data": {
            "text/plain": [
              "<IPython.core.display.Javascript object>"
            ],
            "application/javascript": [
              "(async (port, path, width, height, cache, element) => {\n",
              "    if (!google.colab.kernel.accessAllowed && !cache) {\n",
              "      return;\n",
              "    }\n",
              "    element.appendChild(document.createTextNode(''));\n",
              "    const url = await google.colab.kernel.proxyPort(port, {cache});\n",
              "    const iframe = document.createElement('iframe');\n",
              "    iframe.src = new URL(path, url).toString();\n",
              "    iframe.height = height;\n",
              "    iframe.width = width;\n",
              "    iframe.style.border = 0;\n",
              "    iframe.allow = [\n",
              "        'accelerometer',\n",
              "        'autoplay',\n",
              "        'camera',\n",
              "        'clipboard-read',\n",
              "        'clipboard-write',\n",
              "        'gyroscope',\n",
              "        'magnetometer',\n",
              "        'microphone',\n",
              "        'serial',\n",
              "        'usb',\n",
              "        'xr-spatial-tracking',\n",
              "    ].join('; ');\n",
              "    element.appendChild(iframe);\n",
              "  })(8050, \"/\", \"100%\", 650, false, window.element)"
            ]
          },
          "metadata": {}
        }
      ]
    },
    {
      "cell_type": "code",
      "source": [],
      "metadata": {
        "id": "NPYWBjd5zagj"
      },
      "execution_count": null,
      "outputs": []
    }
  ]
}